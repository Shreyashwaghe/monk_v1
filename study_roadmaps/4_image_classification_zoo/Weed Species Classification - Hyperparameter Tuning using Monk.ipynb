{
 "cells": [
  {
   "cell_type": "markdown",
   "metadata": {
    "colab_type": "text",
    "id": "view-in-github"
   },
   "source": [
    "<a href=\"https://colab.research.google.com/github/Tessellate-Imaging/monk_v1/blob/master/study_roadmaps/4_image_classification_zoo/Weed%20Species%20Classification%20-%20Hyperparameter%20Tuning%20using%20Monk.ipynb\" target=\"_parent\"><img src=\"https://colab.research.google.com/assets/colab-badge.svg\" alt=\"Open In Colab\"/></a>"
   ]
  },
  {
   "cell_type": "code",
   "execution_count": null,
   "metadata": {},
   "outputs": [],
   "source": []
  },
  {
   "cell_type": "code",
   "execution_count": null,
   "metadata": {},
   "outputs": [],
   "source": []
  },
  {
   "cell_type": "code",
   "execution_count": null,
   "metadata": {},
   "outputs": [],
   "source": []
  },
  {
   "cell_type": "code",
   "execution_count": null,
   "metadata": {},
   "outputs": [],
   "source": []
  },
  {
   "cell_type": "markdown",
   "metadata": {},
   "source": [
    "# Table of Contents\n",
    "\n",
    "\n",
    "## [0. Install Monk](#0)\n",
    "\n",
    "\n",
    "## [1. Load data](#1)\n",
    "\n",
    "\n",
    "## [2. Try different base models on partial dataset](#2)\n",
    "\n",
    "\n",
    "## [3. Analyse what batch size does the trick](#3)\n",
    "\n",
    "\n",
    "## [4. Analyse which learning rate suites the best](#4)\n",
    "\n",
    "\n",
    "## [5. Try out different optimizers on partial dataset](#5)\n",
    "\n",
    "\n",
    "## [6. Train](#6)\n",
    "\n",
    "\n",
    "## [7. Run inference on trained classifier](#7)"
   ]
  },
  {
   "cell_type": "code",
   "execution_count": null,
   "metadata": {},
   "outputs": [],
   "source": []
  },
  {
   "cell_type": "markdown",
   "metadata": {},
   "source": [
    "<a id='0'></a>\n",
    "# Install Monk\n",
    "  \n",
    " - git clone https://github.com/Tessellate-Imaging/monk_v1.git\n",
    " \n",
    " - cd monk_v1/installation/Linux && pip install -r requirements_cu9.txt\n",
    "     - (Select the requirements file as per OS and CUDA version)"
   ]
  },
  {
   "cell_type": "code",
   "execution_count": 1,
   "metadata": {},
   "outputs": [
    {
     "name": "stdout",
     "output_type": "stream",
     "text": [
      "Cloning into 'monk_v1'...\n",
      "remote: Enumerating objects: 221, done.\u001b[K\n",
      "remote: Counting objects: 100% (221/221), done.\u001b[K\n",
      "remote: Compressing objects: 100% (160/160), done.\u001b[K\n",
      "remote: Total 2126 (delta 124), reused 132 (delta 60), pack-reused 1905\u001b[K\n",
      "Receiving objects: 100% (2126/2126), 73.73 MiB | 44.91 MiB/s, done.\n",
      "Resolving deltas: 100% (1144/1144), done.\n"
     ]
    }
   ],
   "source": [
    "!git clone https://github.com/Tessellate-Imaging/monk_v1.git"
   ]
  },
  {
   "cell_type": "code",
   "execution_count": null,
   "metadata": {},
   "outputs": [],
   "source": []
  },
  {
   "cell_type": "code",
   "execution_count": null,
   "metadata": {},
   "outputs": [],
   "source": [
    "# If using Colab install using the commands below\n",
    "!cd monk_v1/installation/Misc && pip install -r requirements_colab.txt\n",
    "\n",
    "# If using Kaggle uncomment the following command\n",
    "#!cd monk_v1/installation/Misc && pip install -r requirements_kaggle.txt\n",
    "\n",
    "# Select the requirements file as per OS and CUDA version when using a local system or cloud\n",
    "#!cd monk_v1/installation/Linux && pip install -r requirements_cu9.txt"
   ]
  },
  {
   "cell_type": "code",
   "execution_count": null,
   "metadata": {},
   "outputs": [],
   "source": []
  },
  {
   "cell_type": "code",
   "execution_count": null,
   "metadata": {},
   "outputs": [],
   "source": []
  },
  {
   "cell_type": "markdown",
   "metadata": {},
   "source": [
    "## Dataset - Weed species classification\n",
    "    - https://github.com/AlexOlsen/DeepWeeds"
   ]
  },
  {
   "cell_type": "code",
   "execution_count": null,
   "metadata": {},
   "outputs": [],
   "source": [
    "! wget --load-cookies /tmp/cookies.txt \"https://docs.google.com/uc?export=download&confirm=$(wget --save-cookies /tmp/cookies.txt --keep-session-cookies --no-check-certificate 'https://docs.google.com/uc?export=download&id=1FjwRgyJ426y9tsTkvT_dx3vUgumRp3lN' -O- | sed -rn 's/.*confirm=([0-9A-Za-z_]+).*/\\1\\n/p')&id=1FjwRgyJ426y9tsTkvT_dx3vUgumRp3lN\" -O weed_data.zip && rm -rf /tmp/cookies.txt"
   ]
  },
  {
   "cell_type": "code",
   "execution_count": 16,
   "metadata": {},
   "outputs": [],
   "source": [
    "! unzip -qq weed_data.zip"
   ]
  },
  {
   "cell_type": "code",
   "execution_count": null,
   "metadata": {},
   "outputs": [],
   "source": []
  },
  {
   "cell_type": "code",
   "execution_count": null,
   "metadata": {},
   "outputs": [],
   "source": []
  },
  {
   "cell_type": "code",
   "execution_count": null,
   "metadata": {},
   "outputs": [],
   "source": []
  },
  {
   "cell_type": "markdown",
   "metadata": {},
   "source": [
    "## Imports"
   ]
  },
  {
   "cell_type": "code",
   "execution_count": 1,
   "metadata": {},
   "outputs": [],
   "source": [
    "# Monk\n",
    "import os\n",
    "import sys\n",
    "sys.path.append(\"monk_v1/monk/\");"
   ]
  },
  {
   "cell_type": "code",
   "execution_count": 2,
   "metadata": {},
   "outputs": [],
   "source": [
    "#Using mxnet-gluon backend \n",
    "from gluon_prototype import prototype"
   ]
  },
  {
   "cell_type": "code",
   "execution_count": null,
   "metadata": {},
   "outputs": [],
   "source": []
  },
  {
   "cell_type": "code",
   "execution_count": null,
   "metadata": {},
   "outputs": [],
   "source": []
  },
  {
   "cell_type": "code",
   "execution_count": null,
   "metadata": {},
   "outputs": [],
   "source": []
  },
  {
   "cell_type": "markdown",
   "metadata": {},
   "source": [
    "<a id='1'></a>\n",
    "# Load Data"
   ]
  },
  {
   "cell_type": "code",
   "execution_count": null,
   "metadata": {},
   "outputs": [],
   "source": []
  },
  {
   "cell_type": "markdown",
   "metadata": {},
   "source": [
    "## Creating and managing experiments\n",
    "    - Provide project name\n",
    "    - Provide experiment name\n",
    "    - For a specific data create a single project\n",
    "    - Inside each project multiple experiments can be created\n",
    "    - Every experiment can be have diferent hyper-parameters attached to it"
   ]
  },
  {
   "cell_type": "code",
   "execution_count": 3,
   "metadata": {},
   "outputs": [
    {
     "name": "stdout",
     "output_type": "stream",
     "text": [
      "Mxnet Version: 1.5.0\n",
      "\n",
      "Experiment Details\n",
      "    Project: project\n",
      "    Experiment: weed_species_classification\n",
      "    Dir: /home/ubuntu/Desktop/weed/workspace/project/weed_species_classification/\n",
      "\n"
     ]
    }
   ],
   "source": [
    "gtf = prototype(verbose=1);\n",
    "gtf.Prototype(\"project\", \"weed_species_classification\");"
   ]
  },
  {
   "cell_type": "code",
   "execution_count": null,
   "metadata": {},
   "outputs": [],
   "source": []
  },
  {
   "cell_type": "markdown",
   "metadata": {},
   "source": [
    "### This creates files and directories as per the following structure\n",
    "    \n",
    "    \n",
    "    workspace\n",
    "        |\n",
    "        |--------project\n",
    "                    |\n",
    "                    |\n",
    "                    |-----weed_species_classification\n",
    "                                |\n",
    "                                |-----experiment-state.json\n",
    "                                |\n",
    "                                |-----output\n",
    "                                        |\n",
    "                                        |------logs (All training logs and graphs saved here)\n",
    "                                        |\n",
    "                                        |------models (all trained models saved here)"
   ]
  },
  {
   "cell_type": "code",
   "execution_count": null,
   "metadata": {},
   "outputs": [],
   "source": []
  },
  {
   "cell_type": "markdown",
   "metadata": {},
   "source": [
    "## Set dataset and select the model"
   ]
  },
  {
   "cell_type": "code",
   "execution_count": 4,
   "metadata": {},
   "outputs": [
    {
     "name": "stdout",
     "output_type": "stream",
     "text": [
      "Dataset Details\n",
      "    Train path:     weed_data/images\n",
      "    Val path:       None\n",
      "    CSV train path: weed_data/train_labels.csv\n",
      "    CSV val path:   None\n",
      "\n",
      "Dataset Params\n",
      "    Input Size:   224\n",
      "    Batch Size:   4\n",
      "    Data Shuffle: True\n",
      "    Processors:   8\n",
      "    Train-val split:   0.7\n",
      "    Delimiter:   ,\n",
      "\n",
      "Pre-Composed Train Transforms\n",
      "[{'RandomHorizontalFlip': {'p': 0.8}}, {'Normalize': {'mean': [0.485, 0.456, 0.406], 'std': [0.229, 0.224, 0.225]}}]\n",
      "\n",
      "Pre-Composed Val Transforms\n",
      "[{'RandomHorizontalFlip': {'p': 0.8}}, {'Normalize': {'mean': [0.485, 0.456, 0.406], 'std': [0.229, 0.224, 0.225]}}]\n",
      "\n",
      "Dataset Numbers\n",
      "    Num train images: 12256\n",
      "    Num val images:   5253\n",
      "    Num classes:      9\n",
      "\n",
      "Model Params\n",
      "    Model name:           resnet18_v1\n",
      "    Use Gpu:              True\n",
      "    Use pretrained:       True\n",
      "    Freeze base network:  False\n",
      "\n",
      "Model Details\n",
      "    Loading pretrained model\n",
      "    Model Loaded on device\n",
      "        Model name:                           resnet18_v1\n",
      "        Num of potentially trainable layers:  41\n",
      "        Num of actual trainable layers:       41\n",
      "\n",
      "Optimizer\n",
      "    Name:          sgd\n",
      "    Learning rate: 0.01\n",
      "    Params:        {'lr': 0.01, 'momentum': 0, 'weight_decay': 0, 'momentum_dampening_rate': 0, 'clipnorm': 0.0, 'clipvalue': 0.0}\n",
      "\n",
      "\n",
      "\n",
      "Learning rate scheduler\n",
      "    Name:   steplr\n",
      "    Params: {'step_size': 1, 'gamma': 0.98, 'last_epoch': -1}\n",
      "\n",
      "Loss\n",
      "    Name:          softmaxcrossentropy\n",
      "    Params:        {'weight': None, 'batch_axis': 0, 'axis_to_sum_over': -1, 'label_as_categories': True, 'label_smoothing': False}\n",
      "\n",
      "Training params\n",
      "    Num Epochs: 10\n",
      "\n",
      "Display params\n",
      "    Display progress:          True\n",
      "    Display progress realtime: True\n",
      "    Save Training logs:        True\n",
      "    Save Intermediate models:  True\n",
      "    Intermediate model prefix: intermediate_model_\n",
      "\n"
     ]
    },
    {
     "name": "stderr",
     "output_type": "stream",
     "text": [
      "monk_v1/monk/system/imports.py:193: UserWarning: ArgumentWarning: clipnorm and clipvalue are active only for keras in current version of Monk\n",
      "  warnings.warn(msg)\n",
      "monk_v1/monk/system/imports.py:193: UserWarning: ArgumentWarning: momentum_dampening_rate is active only for pytorch in current version of Monk\n",
      "  warnings.warn(msg)\n"
     ]
    }
   ],
   "source": [
    "gtf.Default(dataset_path=\"weed_data/images\",\n",
    "            path_to_csv=\"weed_data/train_labels.csv\",\n",
    "            model_name=\"resnet18_v1\", \n",
    "            freeze_base_network=False,\n",
    "            num_epochs=10);"
   ]
  },
  {
   "cell_type": "code",
   "execution_count": null,
   "metadata": {},
   "outputs": [],
   "source": []
  },
  {
   "cell_type": "code",
   "execution_count": null,
   "metadata": {},
   "outputs": [],
   "source": []
  },
  {
   "cell_type": "code",
   "execution_count": null,
   "metadata": {},
   "outputs": [],
   "source": []
  },
  {
   "cell_type": "code",
   "execution_count": null,
   "metadata": {},
   "outputs": [],
   "source": []
  },
  {
   "cell_type": "code",
   "execution_count": null,
   "metadata": {},
   "outputs": [],
   "source": []
  },
  {
   "cell_type": "markdown",
   "metadata": {},
   "source": [
    "<a id='2'></a>\n",
    "# Try different base models on partial dataset"
   ]
  },
  {
   "cell_type": "code",
   "execution_count": 8,
   "metadata": {},
   "outputs": [
    {
     "name": "stdout",
     "output_type": "stream",
     "text": [
      "Models List: \n",
      "    1. alexnet\n",
      "    2. darknet53\n",
      "    3. densenet121\n",
      "    4. densenet161\n",
      "    5. densenet169\n",
      "    6. densenet201\n",
      "    7. inceptionv3\n",
      "    8. mobilenet1.0\n",
      "    9. mobilenet0.75\n",
      "    10. mobilenet0.25\n",
      "    11. mobilenet0.5\n",
      "    12. resnet18_v1\n",
      "    13. resnet34_v1\n",
      "    14. resnet50_v1\n",
      "    15. resnet101_v1\n",
      "    16. resnet152_v1\n",
      "    17. resnext50_32x4d\n",
      "    18. resnext101_32x4d\n",
      "    19. resnext101_64x4d_v1\n",
      "    20. se_resnext50_32x4d\n",
      "    21. se_resnext101_32x4d\n",
      "    22. se_resnext101_64x4d\n",
      "    23. senet_154\n",
      "    24. vgg11\n",
      "    25. vgg13\n",
      "    26. vgg16\n",
      "    27. vgg19\n",
      "    28. vgg11_bn\n",
      "    29. vgg13_bn\n",
      "    30. vgg16_bn\n",
      "    31. vgg19_bn\n",
      "    32. resnet18_v2\n",
      "    33. resnet34_v2\n",
      "    34. resnet50_v2\n",
      "    35. resnet101_v2\n",
      "    36. resnet152_v2\n",
      "    37. mobilenetv2_1.0\n",
      "    38. mobilenetv2_0.75\n",
      "    39. mobilenetv2_0.5\n",
      "    40. mobilenetv2_0.25\n",
      "    41. squeezenet1.0\n",
      "    42. squeezenet1.1\n",
      "    43. mobilenetv3_large\n",
      "    44. mobilenetv3_small\n",
      "    45. resnet18_v1b\n",
      "    46. resnet34_v1b\n",
      "    47. resnet50_v1b\n",
      "    48. resnet50_v1b_gn\n",
      "    49. resnet101_v1b\n",
      "    50. resnet152_v1b\n",
      "    51. resnet50_v1c\n",
      "    52. resnet101_v1c\n",
      "    53. resnet152_v1c\n",
      "    54. resnet50_v1d\n",
      "    55. resnet101_v1d\n",
      "    56. resnet152_v1d\n",
      "    57. resnet18_v1d\n",
      "    58. resnet34_v1d\n",
      "    59. resnet50_v1d\n",
      "    60. resnet101_v1d\n",
      "    61. resnet152_v1d\n",
      "    62. resnet18_v1b_0.89\n",
      "    63. resnet50_v1d_0.86\n",
      "    64. resnet50_v1d_0.48\n",
      "    65. resnet50_v1d_0.37\n",
      "    66. resnet50_v1d_0.11\n",
      "    67. resnet101_v1d_0.76\n",
      "    68. resnet101_v1d_0.73\n",
      "    69. xception\n",
      "\n"
     ]
    }
   ],
   "source": [
    "gtf.List_Models();"
   ]
  },
  {
   "cell_type": "code",
   "execution_count": null,
   "metadata": {},
   "outputs": [],
   "source": []
  },
  {
   "cell_type": "code",
   "execution_count": 9,
   "metadata": {},
   "outputs": [
    {
     "name": "stdout",
     "output_type": "stream",
     "text": [
      "\n",
      "Running Model analysis\n",
      "Analysis Name      : analyse_models\n",
      "\n",
      "Running experiment : 1/6\n",
      "Experiment name    : Model_resnet18_v1_freeze_base_pretrained\n",
      "Estimated time     : 35.8750581741333 sec\n",
      "Experiment Complete\n",
      "\n",
      "\n",
      "Running experiment : 2/6\n",
      "Experiment name    : Model_resnet152_v2_unfreeze_base_pretrained\n",
      "Model file is not found. Downloading.\n",
      "Downloading /home/ubuntu/.mxnet/models/resnet152_v2-f2695542.zip from https://apache-mxnet.s3-accelerate.dualstack.amazonaws.com/gluon/models/resnet152_v2-f2695542.zip...\n"
     ]
    },
    {
     "name": "stderr",
     "output_type": "stream",
     "text": [
      "132432KB [00:02, 53485.00KB/s]                            \n"
     ]
    },
    {
     "name": "stdout",
     "output_type": "stream",
     "text": [
      "Estimated time     : 3 min\n",
      "Experiment Complete\n",
      "\n",
      "\n",
      "Running experiment : 3/6\n",
      "Experiment name    : Model_densenet121_freeze_base_pretrained\n",
      "Model file is not found. Downloading.\n",
      "Downloading /home/ubuntu/.mxnet/models/densenet121-f27dbf2d.zip from https://apache-mxnet.s3-accelerate.dualstack.amazonaws.com/gluon/models/densenet121-f27dbf2d.zip...\n"
     ]
    },
    {
     "name": "stderr",
     "output_type": "stream",
     "text": [
      "100%|██████████| 29622/29622 [00:00<00:00, 54362.77KB/s]\n"
     ]
    },
    {
     "name": "stdout",
     "output_type": "stream",
     "text": [
      "Estimated time     : 53.97014617919922 sec\n",
      "Experiment Complete\n",
      "\n",
      "\n",
      "Running experiment : 4/6\n",
      "Experiment name    : Model_densenet201_unfreeze_base_pretrained\n",
      "Model file is not found. Downloading.\n",
      "Downloading /home/ubuntu/.mxnet/models/densenet201-1cdbc116.zip from https://apache-mxnet.s3-accelerate.dualstack.amazonaws.com/gluon/models/densenet201-1cdbc116.zip...\n"
     ]
    },
    {
     "name": "stderr",
     "output_type": "stream",
     "text": [
      "74804KB [00:01, 43002.65KB/s]                           \n"
     ]
    },
    {
     "name": "stdout",
     "output_type": "stream",
     "text": [
      "Estimated time     : 3 min\n",
      "Experiment Complete\n",
      "\n",
      "\n",
      "Running experiment : 5/6\n",
      "Experiment name    : Model_mobilenetv3_large_unfreeze_base_pretrained\n",
      "Model file is not found. Downloading.\n",
      "Downloading /home/ubuntu/.mxnet/models/mobilenetv3_large-eaa44578.zip from https://apache-mxnet.s3-accelerate.dualstack.amazonaws.com/gluon/models/mobilenetv3_large-eaa44578.zip...\n"
     ]
    },
    {
     "name": "stderr",
     "output_type": "stream",
     "text": [
      "12366KB [00:00, 22499.78KB/s]                          \n"
     ]
    },
    {
     "name": "stdout",
     "output_type": "stream",
     "text": [
      "Estimated time     : 4 min\n",
      "Experiment Complete\n",
      "\n",
      "\n",
      "Running experiment : 6/6\n",
      "Experiment name    : Model_resnext101_64x4d_unfreeze_base_pretrained\n",
      "Model file is not found. Downloading.\n",
      "Downloading /home/ubuntu/.mxnet/models/resnext101_64x4d-2f0d1c9d.zip from https://apache-mxnet.s3-accelerate.dualstack.amazonaws.com/gluon/models/resnext101_64x4d-2f0d1c9d.zip...\n"
     ]
    },
    {
     "name": "stderr",
     "output_type": "stream",
     "text": [
      "100%|██████████| 188766/188766 [00:03<00:00, 59595.55KB/s]\n"
     ]
    },
    {
     "name": "stdout",
     "output_type": "stream",
     "text": [
      "Estimated time     : 5 min\n",
      "Experiment Complete\n",
      "\n",
      "\n",
      "Comparing Experiments\n",
      "Comparison ID:      Comparison_analyse_models\n",
      "Generated statistics post all epochs\n",
      "| Experiment Name                                  |   Train Acc |   Val Acc |   Train Loss |   Val Loss |\n",
      "|--------------------------------------------------+-------------+-----------+--------------+------------|\n",
      "| Model_resnet18_v1_freeze_base_pretrained         |    0.644219 |  0.488636 |     1.07599  |   1.45052  |\n",
      "| Model_resnet152_v2_unfreeze_base_pretrained      |    0.818297 |  0.625    |     0.542959 |   1.08301  |\n",
      "| Model_densenet121_freeze_base_pretrained         |    0.664549 |  0.545455 |     0.965933 |   1.34376  |\n",
      "| Model_densenet201_unfreeze_base_pretrained       |    0.96061  |  0.738636 |     0.170394 |   0.738567 |\n",
      "| Model_mobilenetv3_large_unfreeze_base_pretrained |    0.947903 |  0.738636 |     0.216777 |   0.939349 |\n",
      "| Model_resnext101_64x4d_unfreeze_base_pretrained  |    0.893266 |  0.715909 |     0.333811 |   0.896735 |\n",
      "\n"
     ]
    },
    {
     "data": {
      "text/plain": [
       "<Figure size 432x288 with 0 Axes>"
      ]
     },
     "metadata": {},
     "output_type": "display_data"
    },
    {
     "data": {
      "text/plain": [
       "<Figure size 1440x720 with 0 Axes>"
      ]
     },
     "metadata": {},
     "output_type": "display_data"
    },
    {
     "data": {
      "text/plain": [
       "<Figure size 1440x720 with 0 Axes>"
      ]
     },
     "metadata": {},
     "output_type": "display_data"
    },
    {
     "data": {
      "text/plain": [
       "<Figure size 1440x720 with 0 Axes>"
      ]
     },
     "metadata": {},
     "output_type": "display_data"
    },
    {
     "data": {
      "text/plain": [
       "<Figure size 1440x720 with 0 Axes>"
      ]
     },
     "metadata": {},
     "output_type": "display_data"
    }
   ],
   "source": [
    "# Analysis Project Name\n",
    "analysis_name = \"analyse_models\";\n",
    "\n",
    "# Models to analyse\n",
    "# First element in the list- Model Name\n",
    "# Second element in the list - Boolean value to freeze base network or not\n",
    "# Third element in the list - Boolean value to use pretrained model as the starting point or not\n",
    "models = [[\"resnet18_v1\", True, True], [\"resnet152_v2\", False, True], \n",
    "          [\"densenet121\", True, True], [\"densenet201\", False, True],\n",
    "          [\"mobilenetv3_large\", False, True], [\"resnext101_64x4d\", False, True]];  \n",
    "\n",
    "# Num epochs for each experiment to run\t\n",
    "epochs=10;\n",
    "\n",
    "# Percentage of original dataset to take in for experimentation\n",
    "percent_data=5;\n",
    "\n",
    "# \"keep_all\" - Keep all the sub experiments created\n",
    "# \"keep_non\" - Delete all sub experiments created\n",
    "analysis = gtf.Analyse_Models(analysis_name, models, percent_data, num_epochs=epochs, state=\"keep_none\"); "
   ]
  },
  {
   "cell_type": "code",
   "execution_count": 5,
   "metadata": {},
   "outputs": [
    {
     "name": "stdout",
     "output_type": "stream",
     "text": [
      "Update: Model name - densenet201\n",
      "\n",
      "Update: Freeze Base Network - False\n",
      "\n",
      "Update: Use pretrained - True\n",
      "\n",
      "Pre-Composed Train Transforms\n",
      "[{'RandomHorizontalFlip': {'p': 0.8}}, {'Normalize': {'mean': [0.485, 0.456, 0.406], 'std': [0.229, 0.224, 0.225]}}]\n",
      "\n",
      "Pre-Composed Val Transforms\n",
      "[{'RandomHorizontalFlip': {'p': 0.8}}, {'Normalize': {'mean': [0.485, 0.456, 0.406], 'std': [0.229, 0.224, 0.225]}}]\n",
      "\n",
      "Dataset Numbers\n",
      "    Num train images: 12256\n",
      "    Num val images:   5253\n",
      "    Num classes:      9\n",
      "\n",
      "Model Details\n",
      "    Loading pretrained model\n",
      "    Model Loaded on device\n",
      "        Model name:                           densenet201\n",
      "        Num of potentially trainable layers:  402\n",
      "        Num of actual trainable layers:       402\n",
      "\n"
     ]
    }
   ],
   "source": [
    "# Lets select densenet201\n",
    "#As per results set the apropriate model\n",
    "gtf.update_model_name(\"densenet201\");\n",
    "gtf.update_freeze_base_network(False);\n",
    "gtf.update_use_pretrained(True);\n",
    "\n",
    "gtf.Reload();"
   ]
  },
  {
   "cell_type": "code",
   "execution_count": null,
   "metadata": {},
   "outputs": [],
   "source": []
  },
  {
   "cell_type": "code",
   "execution_count": null,
   "metadata": {},
   "outputs": [],
   "source": []
  },
  {
   "cell_type": "code",
   "execution_count": null,
   "metadata": {},
   "outputs": [],
   "source": []
  },
  {
   "cell_type": "code",
   "execution_count": null,
   "metadata": {},
   "outputs": [],
   "source": []
  },
  {
   "cell_type": "code",
   "execution_count": null,
   "metadata": {},
   "outputs": [],
   "source": []
  },
  {
   "cell_type": "markdown",
   "metadata": {},
   "source": [
    "<a id='3'></a>\n",
    "# Try different batch sizes on partial dataset"
   ]
  },
  {
   "cell_type": "code",
   "execution_count": 6,
   "metadata": {},
   "outputs": [
    {
     "name": "stdout",
     "output_type": "stream",
     "text": [
      "\n",
      "Running Batch Size analysis\n",
      "Analysis Name      : analyse_batch_sizes\n",
      "\n",
      "Running experiment : 1/4\n",
      "Experiment name    : Batch_Size_4\n",
      "Estimated time     : 5 min\n",
      "Experiment Complete\n",
      "\n",
      "\n",
      "Running experiment : 2/4\n",
      "Experiment name    : Batch_Size_16\n",
      "Estimated time     : 3 min\n",
      "Experiment Complete\n",
      "\n",
      "\n",
      "Running experiment : 3/4\n",
      "Experiment name    : Batch_Size_32\n",
      "Estimated time     : 3 min\n",
      "Experiment Complete\n",
      "\n",
      "\n",
      "Running experiment : 4/4\n",
      "Experiment name    : Batch_Size_64\n",
      "Estimated time     : 4 min\n",
      "Experiment Complete\n",
      "\n",
      "\n",
      "Comparing Experiments\n",
      "Comparison ID:      Comparison_analyse_batch_sizes\n",
      "Generated statistics post all epochs\n",
      "| Experiment Name   |   Train Acc |   Val Acc |   Train Loss |   Val Loss |\n",
      "|-------------------+-------------+-----------+--------------+------------|\n",
      "| Batch_Size_4      |    0.926984 |  0.834286 |    0.233261  |   0.485876 |\n",
      "| Batch_Size_16     |    0.993016 |  0.811429 |    0.0369155 |   0.63565  |\n",
      "| Batch_Size_32     |    0.995556 |  0.782857 |    0.0763072 |   0.564173 |\n",
      "| Batch_Size_64     |    0.99873  |  0.862857 |    0.0633928 |   0.402434 |\n",
      "\n"
     ]
    },
    {
     "data": {
      "text/plain": [
       "<Figure size 432x288 with 0 Axes>"
      ]
     },
     "metadata": {},
     "output_type": "display_data"
    },
    {
     "data": {
      "text/plain": [
       "<Figure size 1440x720 with 0 Axes>"
      ]
     },
     "metadata": {},
     "output_type": "display_data"
    },
    {
     "data": {
      "text/plain": [
       "<Figure size 1440x720 with 0 Axes>"
      ]
     },
     "metadata": {},
     "output_type": "display_data"
    },
    {
     "data": {
      "text/plain": [
       "<Figure size 1440x720 with 0 Axes>"
      ]
     },
     "metadata": {},
     "output_type": "display_data"
    },
    {
     "data": {
      "text/plain": [
       "<Figure size 1440x720 with 0 Axes>"
      ]
     },
     "metadata": {},
     "output_type": "display_data"
    }
   ],
   "source": [
    "# Analysis Project Name\n",
    "analysis_name = \"analyse_batch_sizes\";\n",
    "\n",
    "# Batch sizes to explore - set the max as per the gpu limit\n",
    "#batch size -64 takes in 14000 Mb of GPU RAM\n",
    "batch_sizes = [4, 16, 32, 64];\n",
    "\n",
    "# Num epochs for each experiment to run\t\n",
    "epochs = 10;\n",
    "\n",
    "# Percentage of original dataset to take in for experimentation\n",
    "percent_data = 10;\n",
    "\n",
    "# \"keep_all\" - Keep all the sub experiments created\n",
    "# \"keep_non\" - Delete all sub experiments created\t\n",
    "analysis = gtf.Analyse_Batch_Sizes(analysis_name, batch_sizes, percent_data, \n",
    "                                   num_epochs=epochs, state=\"keep_none\"); \n"
   ]
  },
  {
   "cell_type": "code",
   "execution_count": null,
   "metadata": {},
   "outputs": [],
   "source": []
  },
  {
   "cell_type": "code",
   "execution_count": 6,
   "metadata": {},
   "outputs": [
    {
     "name": "stdout",
     "output_type": "stream",
     "text": [
      "Update: Batch size - 64\n",
      "\n",
      "Pre-Composed Train Transforms\n",
      "[{'RandomHorizontalFlip': {'p': 0.8}}, {'Normalize': {'mean': [0.485, 0.456, 0.406], 'std': [0.229, 0.224, 0.225]}}]\n",
      "\n",
      "Pre-Composed Val Transforms\n",
      "[{'RandomHorizontalFlip': {'p': 0.8}}, {'Normalize': {'mean': [0.485, 0.456, 0.406], 'std': [0.229, 0.224, 0.225]}}]\n",
      "\n",
      "Dataset Numbers\n",
      "    Num train images: 12256\n",
      "    Num val images:   5253\n",
      "    Num classes:      9\n",
      "\n",
      "Model Details\n",
      "    Loading pretrained model\n",
      "    Model Loaded on device\n",
      "        Model name:                           densenet201\n",
      "        Num of potentially trainable layers:  402\n",
      "        Num of actual trainable layers:       402\n",
      "\n"
     ]
    }
   ],
   "source": [
    "#As per results set the apropriate batch size\n",
    "gtf.update_batch_size(64);\n",
    "\n",
    "gtf.Reload();"
   ]
  },
  {
   "cell_type": "code",
   "execution_count": null,
   "metadata": {},
   "outputs": [],
   "source": []
  },
  {
   "cell_type": "code",
   "execution_count": null,
   "metadata": {},
   "outputs": [],
   "source": []
  },
  {
   "cell_type": "code",
   "execution_count": null,
   "metadata": {},
   "outputs": [],
   "source": []
  },
  {
   "cell_type": "code",
   "execution_count": null,
   "metadata": {},
   "outputs": [],
   "source": []
  },
  {
   "cell_type": "markdown",
   "metadata": {},
   "source": [
    "<a id='4'></a>\n",
    "# Try different initial learning rates"
   ]
  },
  {
   "cell_type": "code",
   "execution_count": null,
   "metadata": {},
   "outputs": [],
   "source": []
  },
  {
   "cell_type": "code",
   "execution_count": 8,
   "metadata": {},
   "outputs": [
    {
     "name": "stdout",
     "output_type": "stream",
     "text": [
      "\n",
      "Running Learning rate analysis\n",
      "Analysis Name      : analyse_learning_rates\n",
      "\n",
      "Running experiment : 1/5\n",
      "Experiment name    : Learning_Rate_0.1\n",
      "Estimated time     : 4 min\n",
      "Experiment Complete\n",
      "\n",
      "\n",
      "Running experiment : 2/5\n",
      "Experiment name    : Learning_Rate_0.05\n",
      "Estimated time     : 4 min\n",
      "Experiment Complete\n",
      "\n",
      "\n",
      "Running experiment : 3/5\n",
      "Experiment name    : Learning_Rate_0.01\n",
      "Estimated time     : 4 min\n",
      "Experiment Complete\n",
      "\n",
      "\n",
      "Running experiment : 4/5\n",
      "Experiment name    : Learning_Rate_0.005\n",
      "Estimated time     : 4 min\n",
      "Experiment Complete\n",
      "\n",
      "\n",
      "Running experiment : 5/5\n",
      "Experiment name    : Learning_Rate_0.0001\n",
      "Estimated time     : 4 min\n",
      "Experiment Complete\n",
      "\n",
      "\n",
      "Comparing Experiments\n",
      "Comparison ID:      Comparison_analyse_learning_rates\n",
      "Generated statistics post all epochs\n",
      "| Experiment Name      |   Train Acc |   Val Acc |   Train Loss |   Val Loss |\n",
      "|----------------------+-------------+-----------+--------------+------------|\n",
      "| Learning_Rate_0.1    |    0.540317 |  0.554286 |   1.49866    |   1.27146  |\n",
      "| Learning_Rate_0.05   |    1        |  0.822857 |   0.00557197 |   0.445744 |\n",
      "| Learning_Rate_0.01   |    1        |  0.828571 |   0.0530528  |   0.526397 |\n",
      "| Learning_Rate_0.005  |    0.986032 |  0.731429 |   0.178225   |   0.756385 |\n",
      "| Learning_Rate_0.0001 |    0.492698 |  0.474286 |   1.69672    |   1.74303  |\n",
      "\n"
     ]
    },
    {
     "data": {
      "text/plain": [
       "<Figure size 432x288 with 0 Axes>"
      ]
     },
     "metadata": {},
     "output_type": "display_data"
    },
    {
     "data": {
      "text/plain": [
       "<Figure size 1440x720 with 0 Axes>"
      ]
     },
     "metadata": {},
     "output_type": "display_data"
    },
    {
     "data": {
      "text/plain": [
       "<Figure size 1440x720 with 0 Axes>"
      ]
     },
     "metadata": {},
     "output_type": "display_data"
    },
    {
     "data": {
      "text/plain": [
       "<Figure size 1440x720 with 0 Axes>"
      ]
     },
     "metadata": {},
     "output_type": "display_data"
    },
    {
     "data": {
      "text/plain": [
       "<Figure size 1440x720 with 0 Axes>"
      ]
     },
     "metadata": {},
     "output_type": "display_data"
    }
   ],
   "source": [
    "# Analysis Project Name\n",
    "analysis_name = \"analyse_learning_rates\"\n",
    "\n",
    "# Learning rates to explore\n",
    "lrs = [0.1, 0.05, 0.01, 0.005, 0.0001];\n",
    "\n",
    "# Num epochs for each experiment to run\n",
    "epochs=10\n",
    "\n",
    "# Percentage of original dataset to take in for experimentation\n",
    "percent_data=10\n",
    "\n",
    "# \"keep_all\" - Keep all the sub experiments created\n",
    "# \"keep_non\" - Delete all sub experiments created\n",
    "analysis = gtf.Analyse_Learning_Rates(analysis_name, lrs, percent_data, num_epochs=epochs, state=\"keep_none\"); \n"
   ]
  },
  {
   "cell_type": "code",
   "execution_count": null,
   "metadata": {},
   "outputs": [],
   "source": []
  },
  {
   "cell_type": "code",
   "execution_count": 7,
   "metadata": {},
   "outputs": [
    {
     "name": "stdout",
     "output_type": "stream",
     "text": [
      "Update: Learning Rate - 0.01\n",
      "\n",
      "Pre-Composed Train Transforms\n",
      "[{'RandomHorizontalFlip': {'p': 0.8}}, {'Normalize': {'mean': [0.485, 0.456, 0.406], 'std': [0.229, 0.224, 0.225]}}]\n",
      "\n",
      "Pre-Composed Val Transforms\n",
      "[{'RandomHorizontalFlip': {'p': 0.8}}, {'Normalize': {'mean': [0.485, 0.456, 0.406], 'std': [0.229, 0.224, 0.225]}}]\n",
      "\n",
      "Dataset Numbers\n",
      "    Num train images: 12256\n",
      "    Num val images:   5253\n",
      "    Num classes:      9\n",
      "\n",
      "Model Details\n",
      "    Loading pretrained model\n",
      "    Model Loaded on device\n",
      "        Model name:                           densenet201\n",
      "        Num of potentially trainable layers:  402\n",
      "        Num of actual trainable layers:       402\n",
      "\n"
     ]
    }
   ],
   "source": [
    "#As per results set the apropriate learning rate\n",
    "gtf.update_learning_rate(0.01);\n",
    "\n",
    "gtf.Reload();"
   ]
  },
  {
   "cell_type": "code",
   "execution_count": null,
   "metadata": {},
   "outputs": [],
   "source": []
  },
  {
   "cell_type": "code",
   "execution_count": null,
   "metadata": {},
   "outputs": [],
   "source": []
  },
  {
   "cell_type": "code",
   "execution_count": null,
   "metadata": {},
   "outputs": [],
   "source": []
  },
  {
   "cell_type": "code",
   "execution_count": null,
   "metadata": {},
   "outputs": [],
   "source": []
  },
  {
   "cell_type": "code",
   "execution_count": null,
   "metadata": {},
   "outputs": [],
   "source": []
  },
  {
   "cell_type": "code",
   "execution_count": null,
   "metadata": {},
   "outputs": [],
   "source": []
  },
  {
   "cell_type": "markdown",
   "metadata": {},
   "source": [
    "<a id='5'></a>\n",
    "# Try different optimizers on partial dataset"
   ]
  },
  {
   "cell_type": "code",
   "execution_count": null,
   "metadata": {},
   "outputs": [],
   "source": []
  },
  {
   "cell_type": "code",
   "execution_count": 9,
   "metadata": {},
   "outputs": [
    {
     "name": "stdout",
     "output_type": "stream",
     "text": [
      "\n",
      "Running Optimizer analysis\n",
      "Analysis Name      : analyse_optimizers\n",
      "\n",
      "Running experiment : 1/4\n",
      "Experiment name    : Optimizer_sgd\n"
     ]
    },
    {
     "name": "stderr",
     "output_type": "stream",
     "text": [
      "monk_v1/monk/system/imports.py:193: UserWarning: ArgumentWarning: clipnorm and clipvalue are active only for keras in current version of Monk\n",
      "  warnings.warn(msg)\n",
      "monk_v1/monk/system/imports.py:193: UserWarning: ArgumentWarning: momentum_dampening_rate is active only for pytorch in current version of Monk\n",
      "  warnings.warn(msg)\n"
     ]
    },
    {
     "name": "stdout",
     "output_type": "stream",
     "text": [
      "Estimated time     : 2 min\n",
      "Experiment Complete\n",
      "\n",
      "\n",
      "Running experiment : 2/4\n",
      "Experiment name    : Optimizer_adam\n"
     ]
    },
    {
     "name": "stderr",
     "output_type": "stream",
     "text": [
      "monk_v1/monk/system/imports.py:193: UserWarning: ArgumentWarning: clipnorm and clipvalue are active only for keras in current version of Monk\n",
      "  warnings.warn(msg)\n",
      "monk_v1/monk/system/imports.py:193: UserWarning: ArgumentWarning: amsgrad is active only for keras and pytorch in current version of Monk\n",
      "  warnings.warn(msg)\n"
     ]
    },
    {
     "name": "stdout",
     "output_type": "stream",
     "text": [
      "Estimated time     : 2 min\n",
      "Experiment Complete\n",
      "\n",
      "\n",
      "Running experiment : 3/4\n",
      "Experiment name    : Optimizer_nesterov_adam\n"
     ]
    },
    {
     "name": "stderr",
     "output_type": "stream",
     "text": [
      "monk_v1/monk/system/imports.py:193: UserWarning: OptimizerWarning: nesterov adam is active only for keras and gluon in current version of Monk\n",
      "  warnings.warn(msg)\n",
      "monk_v1/monk/system/imports.py:193: UserWarning: ArgumentWarning: amsgrad is inactive in current version of Monk\n",
      "  warnings.warn(msg)\n"
     ]
    },
    {
     "name": "stdout",
     "output_type": "stream",
     "text": [
      "Estimated time     : 2 min\n",
      "Experiment Complete\n",
      "\n",
      "\n",
      "Running experiment : 4/4\n",
      "Experiment name    : Optimizer_adagrad\n"
     ]
    },
    {
     "name": "stderr",
     "output_type": "stream",
     "text": [
      "monk_v1/monk/system/imports.py:193: UserWarning: ArgumentWarning: clipnorm and clipvalue are active only for keras in current version of Monk\n",
      "  warnings.warn(msg)\n",
      "monk_v1/monk/system/imports.py:193: UserWarning: ArgumentWarning: learning_rate_decay is active only for pytorch in current version of Monk\n",
      "  warnings.warn(msg)\n"
     ]
    },
    {
     "name": "stdout",
     "output_type": "stream",
     "text": [
      "Estimated time     : 2 min\n",
      "Experiment Complete\n",
      "\n",
      "\n",
      "Comparing Experiments\n",
      "Comparison ID:      Comparison_analyse_optimizers\n",
      "Generated statistics post all epochs\n",
      "| Experiment Name         |   Train Acc |   Val Acc |   Train Loss |   Val Loss |\n",
      "|-------------------------+-------------+-----------+--------------+------------|\n",
      "| Optimizer_sgd           |    0.970794 |  0.822857 |     0.201979 |   0.538837 |\n",
      "| Optimizer_adam          |    0.514921 |  0.548571 |     1.4757   |   1.31199  |\n",
      "| Optimizer_nesterov_adam |    0.521905 |  0.491429 |     1.43264  |   1.36158  |\n",
      "| Optimizer_adagrad       |    0.55873  |  0.64     |     1.29164  |   1.09438  |\n",
      "\n"
     ]
    },
    {
     "data": {
      "text/plain": [
       "<Figure size 432x288 with 0 Axes>"
      ]
     },
     "metadata": {},
     "output_type": "display_data"
    },
    {
     "data": {
      "text/plain": [
       "<Figure size 1440x720 with 0 Axes>"
      ]
     },
     "metadata": {},
     "output_type": "display_data"
    },
    {
     "data": {
      "text/plain": [
       "<Figure size 1440x720 with 0 Axes>"
      ]
     },
     "metadata": {},
     "output_type": "display_data"
    },
    {
     "data": {
      "text/plain": [
       "<Figure size 1440x720 with 0 Axes>"
      ]
     },
     "metadata": {},
     "output_type": "display_data"
    },
    {
     "data": {
      "text/plain": [
       "<Figure size 1440x720 with 0 Axes>"
      ]
     },
     "metadata": {},
     "output_type": "display_data"
    }
   ],
   "source": [
    "# Analysis Project Name\n",
    "analysis_name = \"analyse_optimizers\";\n",
    "\n",
    "# Optimizers to explore\n",
    "optimizers = [\"sgd\", \"adam\", \"nesterov_adam\", \"adagrad\"];   #Model name, learning rate\n",
    "\n",
    "# Num epochs for each experiment to run\t\n",
    "epochs = 5;\n",
    "\n",
    "# Percentage of original dataset to take in for experimentation\n",
    "percent_data = 10;\n",
    "\n",
    "# \"keep_all\" - Keep all the sub experiments created\n",
    "# \"keep_non\" - Delete all sub experiments created\n",
    "analysis = gtf.Analyse_Optimizers(analysis_name, optimizers, percent_data, num_epochs=epochs, state=\"keep_none\"); "
   ]
  },
  {
   "cell_type": "code",
   "execution_count": null,
   "metadata": {},
   "outputs": [],
   "source": []
  },
  {
   "cell_type": "code",
   "execution_count": 8,
   "metadata": {},
   "outputs": [
    {
     "name": "stdout",
     "output_type": "stream",
     "text": [
      "Optimizer\n",
      "    Name:          sgd\n",
      "    Learning rate: 0.001\n",
      "    Params:        {'lr': 0.001, 'momentum': 0, 'weight_decay': 0, 'momentum_dampening_rate': 0, 'clipnorm': 0.0, 'clipvalue': 0.0}\n",
      "\n",
      "\n",
      "\n"
     ]
    },
    {
     "name": "stderr",
     "output_type": "stream",
     "text": [
      "monk_v1/monk/system/imports.py:193: UserWarning: ArgumentWarning: clipnorm and clipvalue are active only for keras in current version of Monk\n",
      "  warnings.warn(msg)\n",
      "monk_v1/monk/system/imports.py:193: UserWarning: ArgumentWarning: momentum_dampening_rate is active only for pytorch in current version of Monk\n",
      "  warnings.warn(msg)\n"
     ]
    },
    {
     "name": "stdout",
     "output_type": "stream",
     "text": [
      "Pre-Composed Train Transforms\n",
      "[{'RandomHorizontalFlip': {'p': 0.8}}, {'Normalize': {'mean': [0.485, 0.456, 0.406], 'std': [0.229, 0.224, 0.225]}}]\n",
      "\n",
      "Pre-Composed Val Transforms\n",
      "[{'RandomHorizontalFlip': {'p': 0.8}}, {'Normalize': {'mean': [0.485, 0.456, 0.406], 'std': [0.229, 0.224, 0.225]}}]\n",
      "\n",
      "Dataset Numbers\n",
      "    Num train images: 12256\n",
      "    Num val images:   5253\n",
      "    Num classes:      9\n",
      "\n",
      "Model Details\n",
      "    Loading pretrained model\n",
      "    Model Loaded on device\n",
      "        Model name:                           densenet201\n",
      "        Num of potentially trainable layers:  402\n",
      "        Num of actual trainable layers:       402\n",
      "\n"
     ]
    }
   ],
   "source": [
    "#As per results set the appropriate \n",
    "gtf.optimizer_sgd(0.001);\n",
    "\n",
    "gtf.Reload();"
   ]
  },
  {
   "cell_type": "code",
   "execution_count": null,
   "metadata": {},
   "outputs": [],
   "source": []
  },
  {
   "cell_type": "code",
   "execution_count": null,
   "metadata": {},
   "outputs": [],
   "source": []
  },
  {
   "cell_type": "code",
   "execution_count": null,
   "metadata": {},
   "outputs": [],
   "source": []
  },
  {
   "cell_type": "markdown",
   "metadata": {},
   "source": [
    "<a id='6'></a>\n",
    "# Train"
   ]
  },
  {
   "cell_type": "code",
   "execution_count": 9,
   "metadata": {},
   "outputs": [
    {
     "name": "stdout",
     "output_type": "stream",
     "text": [
      "Training Start\n",
      "    Epoch 1/10\n",
      "    ----------\n"
     ]
    },
    {
     "data": {
      "application/vnd.jupyter.widget-view+json": {
       "model_id": "41691368a80d4978bd43134fe9592828",
       "version_major": 2,
       "version_minor": 0
      },
      "text/plain": [
       "HBox(children=(FloatProgress(value=0.0, max=192.0), HTML(value='')))"
      ]
     },
     "metadata": {},
     "output_type": "display_data"
    },
    {
     "data": {
      "application/vnd.jupyter.widget-view+json": {
       "model_id": "63a775207a784df1aa4dc3a93ad97a98",
       "version_major": 2,
       "version_minor": 0
      },
      "text/plain": [
       "HBox(children=(FloatProgress(value=0.0, max=83.0), HTML(value='')))"
      ]
     },
     "metadata": {},
     "output_type": "display_data"
    },
    {
     "name": "stdout",
     "output_type": "stream",
     "text": [
      "\n",
      "\n",
      "    curr_lr - 0.001\n",
      "    [Epoch 1] Train-acc: 0.536, Train-loss: 1.447 | Val-acc: 0.607272, Val-loss: 1.144, | time: 75.8 sec\n",
      "\n",
      "    Epoch 2/10\n",
      "    ----------\n"
     ]
    },
    {
     "data": {
      "application/vnd.jupyter.widget-view+json": {
       "model_id": "3357e010e6e240c8b1ea55be4b990526",
       "version_major": 2,
       "version_minor": 0
      },
      "text/plain": [
       "HBox(children=(FloatProgress(value=0.0, max=192.0), HTML(value='')))"
      ]
     },
     "metadata": {},
     "output_type": "display_data"
    },
    {
     "data": {
      "application/vnd.jupyter.widget-view+json": {
       "model_id": "397e7ef165c048ec82689d00773f0588",
       "version_major": 2,
       "version_minor": 0
      },
      "text/plain": [
       "HBox(children=(FloatProgress(value=0.0, max=83.0), HTML(value='')))"
      ]
     },
     "metadata": {},
     "output_type": "display_data"
    },
    {
     "name": "stdout",
     "output_type": "stream",
     "text": [
      "\n",
      "\n",
      "    curr_lr - 0.001\n",
      "    [Epoch 2] Train-acc: 0.690, Train-loss: 0.952 | Val-acc: 0.714830, Val-loss: 0.882, | time: 75.7 sec\n",
      "\n",
      "    Epoch 3/10\n",
      "    ----------\n"
     ]
    },
    {
     "data": {
      "application/vnd.jupyter.widget-view+json": {
       "model_id": "d8453ba1fccc444db9acf9b05ceac1ea",
       "version_major": 2,
       "version_minor": 0
      },
      "text/plain": [
       "HBox(children=(FloatProgress(value=0.0, max=192.0), HTML(value='')))"
      ]
     },
     "metadata": {},
     "output_type": "display_data"
    },
    {
     "data": {
      "application/vnd.jupyter.widget-view+json": {
       "model_id": "97e6239f19e14ceea49ed60eca7e5ea3",
       "version_major": 2,
       "version_minor": 0
      },
      "text/plain": [
       "HBox(children=(FloatProgress(value=0.0, max=83.0), HTML(value='')))"
      ]
     },
     "metadata": {},
     "output_type": "display_data"
    },
    {
     "name": "stdout",
     "output_type": "stream",
     "text": [
      "\n",
      "\n",
      "    curr_lr - 0.001\n",
      "    [Epoch 3] Train-acc: 0.764, Train-loss: 0.742 | Val-acc: 0.758995, Val-loss: 0.737, | time: 75.6 sec\n",
      "\n",
      "    Epoch 4/10\n",
      "    ----------\n"
     ]
    },
    {
     "data": {
      "application/vnd.jupyter.widget-view+json": {
       "model_id": "3f8cfd946b534682838fc5d24f900cd4",
       "version_major": 2,
       "version_minor": 0
      },
      "text/plain": [
       "HBox(children=(FloatProgress(value=0.0, max=192.0), HTML(value='')))"
      ]
     },
     "metadata": {},
     "output_type": "display_data"
    },
    {
     "data": {
      "application/vnd.jupyter.widget-view+json": {
       "model_id": "ead3bec105534a9ca42bf4c544533cab",
       "version_major": 2,
       "version_minor": 0
      },
      "text/plain": [
       "HBox(children=(FloatProgress(value=0.0, max=83.0), HTML(value='')))"
      ]
     },
     "metadata": {},
     "output_type": "display_data"
    },
    {
     "name": "stdout",
     "output_type": "stream",
     "text": [
      "\n",
      "\n",
      "    curr_lr - 0.001\n",
      "    [Epoch 4] Train-acc: 0.809, Train-loss: 0.609 | Val-acc: 0.791738, Val-loss: 0.651, | time: 75.4 sec\n",
      "\n",
      "    Epoch 5/10\n",
      "    ----------\n"
     ]
    },
    {
     "data": {
      "application/vnd.jupyter.widget-view+json": {
       "model_id": "fa758c67e135433888050c138836ade2",
       "version_major": 2,
       "version_minor": 0
      },
      "text/plain": [
       "HBox(children=(FloatProgress(value=0.0, max=192.0), HTML(value='')))"
      ]
     },
     "metadata": {},
     "output_type": "display_data"
    },
    {
     "data": {
      "application/vnd.jupyter.widget-view+json": {
       "model_id": "ca914462dd6f4730a36d875b30698385",
       "version_major": 2,
       "version_minor": 0
      },
      "text/plain": [
       "HBox(children=(FloatProgress(value=0.0, max=83.0), HTML(value='')))"
      ]
     },
     "metadata": {},
     "output_type": "display_data"
    },
    {
     "name": "stdout",
     "output_type": "stream",
     "text": [
      "\n",
      "\n",
      "    curr_lr - 0.001\n",
      "    [Epoch 5] Train-acc: 0.839, Train-loss: 0.515 | Val-acc: 0.814582, Val-loss: 0.583, | time: 75.6 sec\n",
      "\n",
      "    Epoch 6/10\n",
      "    ----------\n"
     ]
    },
    {
     "data": {
      "application/vnd.jupyter.widget-view+json": {
       "model_id": "a8fac343e5264abe995cc5a5e5ed162c",
       "version_major": 2,
       "version_minor": 0
      },
      "text/plain": [
       "HBox(children=(FloatProgress(value=0.0, max=192.0), HTML(value='')))"
      ]
     },
     "metadata": {},
     "output_type": "display_data"
    },
    {
     "data": {
      "application/vnd.jupyter.widget-view+json": {
       "model_id": "0d8749cd894f42448f9f5085e9786875",
       "version_major": 2,
       "version_minor": 0
      },
      "text/plain": [
       "HBox(children=(FloatProgress(value=0.0, max=83.0), HTML(value='')))"
      ]
     },
     "metadata": {},
     "output_type": "display_data"
    },
    {
     "name": "stdout",
     "output_type": "stream",
     "text": [
      "\n",
      "\n",
      "    curr_lr - 0.001\n",
      "    [Epoch 6] Train-acc: 0.861, Train-loss: 0.451 | Val-acc: 0.833429, Val-loss: 0.519, | time: 75.5 sec\n",
      "\n",
      "    Epoch 7/10\n",
      "    ----------\n"
     ]
    },
    {
     "data": {
      "application/vnd.jupyter.widget-view+json": {
       "model_id": "e0c59d7a5db64507a47a7c366b874724",
       "version_major": 2,
       "version_minor": 0
      },
      "text/plain": [
       "HBox(children=(FloatProgress(value=0.0, max=192.0), HTML(value='')))"
      ]
     },
     "metadata": {},
     "output_type": "display_data"
    },
    {
     "data": {
      "application/vnd.jupyter.widget-view+json": {
       "model_id": "a3bfd6a7c4d74264802a605d6537d85d",
       "version_major": 2,
       "version_minor": 0
      },
      "text/plain": [
       "HBox(children=(FloatProgress(value=0.0, max=83.0), HTML(value='')))"
      ]
     },
     "metadata": {},
     "output_type": "display_data"
    },
    {
     "name": "stdout",
     "output_type": "stream",
     "text": [
      "\n",
      "\n",
      "    curr_lr - 0.001\n",
      "    [Epoch 7] Train-acc: 0.881, Train-loss: 0.391 | Val-acc: 0.838568, Val-loss: 0.492, | time: 75.6 sec\n",
      "\n",
      "    Epoch 8/10\n",
      "    ----------\n"
     ]
    },
    {
     "data": {
      "application/vnd.jupyter.widget-view+json": {
       "model_id": "48c748921c914c5d9108413d661a9271",
       "version_major": 2,
       "version_minor": 0
      },
      "text/plain": [
       "HBox(children=(FloatProgress(value=0.0, max=192.0), HTML(value='')))"
      ]
     },
     "metadata": {},
     "output_type": "display_data"
    },
    {
     "data": {
      "application/vnd.jupyter.widget-view+json": {
       "model_id": "7ab0d5b98ef94e25b4509c037cef9ad9",
       "version_major": 2,
       "version_minor": 0
      },
      "text/plain": [
       "HBox(children=(FloatProgress(value=0.0, max=83.0), HTML(value='')))"
      ]
     },
     "metadata": {},
     "output_type": "display_data"
    },
    {
     "name": "stdout",
     "output_type": "stream",
     "text": [
      "\n",
      "\n",
      "    curr_lr - 0.001\n",
      "    [Epoch 8] Train-acc: 0.896, Train-loss: 0.350 | Val-acc: 0.851513, Val-loss: 0.457, | time: 75.8 sec\n",
      "\n",
      "    Epoch 9/10\n",
      "    ----------\n"
     ]
    },
    {
     "data": {
      "application/vnd.jupyter.widget-view+json": {
       "model_id": "350dc385b2294824902a4fa23aedc23f",
       "version_major": 2,
       "version_minor": 0
      },
      "text/plain": [
       "HBox(children=(FloatProgress(value=0.0, max=192.0), HTML(value='')))"
      ]
     },
     "metadata": {},
     "output_type": "display_data"
    },
    {
     "data": {
      "application/vnd.jupyter.widget-view+json": {
       "model_id": "b9b2686b472c411c8099168dfe8a0165",
       "version_major": 2,
       "version_minor": 0
      },
      "text/plain": [
       "HBox(children=(FloatProgress(value=0.0, max=83.0), HTML(value='')))"
      ]
     },
     "metadata": {},
     "output_type": "display_data"
    },
    {
     "name": "stdout",
     "output_type": "stream",
     "text": [
      "\n",
      "\n",
      "    curr_lr - 0.001\n",
      "    [Epoch 9] Train-acc: 0.908, Train-loss: 0.309 | Val-acc: 0.853607, Val-loss: 0.436, | time: 75.7 sec\n",
      "\n",
      "    Epoch 10/10\n",
      "    ----------\n"
     ]
    },
    {
     "data": {
      "application/vnd.jupyter.widget-view+json": {
       "model_id": "b90dc1aabe554fa7b1f54ccd0717742c",
       "version_major": 2,
       "version_minor": 0
      },
      "text/plain": [
       "HBox(children=(FloatProgress(value=0.0, max=192.0), HTML(value='')))"
      ]
     },
     "metadata": {},
     "output_type": "display_data"
    },
    {
     "data": {
      "application/vnd.jupyter.widget-view+json": {
       "model_id": "ef9a70df8dca44978bc9584c5edc5250",
       "version_major": 2,
       "version_minor": 0
      },
      "text/plain": [
       "HBox(children=(FloatProgress(value=0.0, max=83.0), HTML(value='')))"
      ]
     },
     "metadata": {},
     "output_type": "display_data"
    },
    {
     "name": "stdout",
     "output_type": "stream",
     "text": [
      "\n",
      "\n",
      "    curr_lr - 0.001\n",
      "    [Epoch 10] Train-acc: 0.916, Train-loss: 0.280 | Val-acc: 0.863316, Val-loss: 0.412, | time: 76.1 sec\n",
      "\n",
      "    Training completed in: 12m 30s\n",
      "    Best val Acc:          0.863316\n",
      "\n",
      "Training End\n",
      "\n",
      "Training Outputs\n",
      "    Model Dir:   /home/ubuntu/Desktop/weed/workspace/project/weed_species_classification/output/models/\n",
      "    Log Dir:     /home/ubuntu/Desktop/weed/workspace/project/weed_species_classification/output/logs/\n",
      "    Final model: final\n",
      "    Best model:  best_model\n",
      "    Log 1 - Validation accuracy history log: val_acc_history.npy\n",
      "    Log 2 - Validation loss history log:     val_loss_history.npy\n",
      "    Log 3 - Training accuracy history log:   train_acc_history.npy\n",
      "    Log 4 - Training loss history log:       train_loss_history.npy\n",
      "    Log 5 - Training curve:                  train_loss_history.npy\n",
      "    Log 6 - Validation curve:                train_loss_history.npy\n",
      "\n"
     ]
    },
    {
     "data": {
      "text/plain": [
       "<Figure size 432x288 with 0 Axes>"
      ]
     },
     "metadata": {},
     "output_type": "display_data"
    }
   ],
   "source": [
    "gtf.Train();"
   ]
  },
  {
   "cell_type": "code",
   "execution_count": null,
   "metadata": {},
   "outputs": [],
   "source": []
  },
  {
   "cell_type": "code",
   "execution_count": null,
   "metadata": {},
   "outputs": [],
   "source": []
  },
  {
   "cell_type": "code",
   "execution_count": null,
   "metadata": {},
   "outputs": [],
   "source": []
  },
  {
   "cell_type": "code",
   "execution_count": null,
   "metadata": {},
   "outputs": [],
   "source": []
  },
  {
   "cell_type": "markdown",
   "metadata": {},
   "source": [
    "<a id='6'></a>\n",
    "# Infer on Training Data"
   ]
  },
  {
   "cell_type": "code",
   "execution_count": null,
   "metadata": {},
   "outputs": [],
   "source": []
  },
  {
   "cell_type": "code",
   "execution_count": 10,
   "metadata": {},
   "outputs": [
    {
     "name": "stdout",
     "output_type": "stream",
     "text": [
      "Mxnet Version: 1.5.0\n",
      "\n",
      "Model Details\n",
      "    Loading model - workspace/project/weed_species_classification/output/models/final-symbol.json\n",
      "    Model loaded!\n",
      "\n",
      "Experiment Details\n",
      "    Project: project\n",
      "    Experiment: weed_species_classification\n",
      "    Dir: /home/ubuntu/Desktop/weed/workspace/project/weed_species_classification/\n",
      "\n"
     ]
    }
   ],
   "source": [
    "gtf = prototype(verbose=1);\n",
    "gtf.Prototype(\"project\", \"weed_species_classification\", eval_infer=True);"
   ]
  },
  {
   "cell_type": "code",
   "execution_count": null,
   "metadata": {},
   "outputs": [],
   "source": []
  },
  {
   "cell_type": "code",
   "execution_count": 18,
   "metadata": {},
   "outputs": [
    {
     "name": "stdout",
     "output_type": "stream",
     "text": [
      "Prediction\n",
      "    Image name:         weed_data/test/test1.jpg\n",
      "    Predicted class:      Lantana\n",
      "    Predicted score:      2.7695631980895996\n",
      "\n"
     ]
    },
    {
     "data": {
      "image/jpeg": "[encoded data removed]",
      "text/plain": [
       "<IPython.core.display.Image object>"
      ]
     },
     "execution_count": 18,
     "metadata": {},
     "output_type": "execute_result"
    }
   ],
   "source": [
    "output = gtf.Infer(img_name = \"weed_data/test/test1.jpg\");\n",
    "from IPython.display import Image\n",
    "Image(filename='weed_data/test/test1.jpg') "
   ]
  },
  {
   "cell_type": "code",
   "execution_count": null,
   "metadata": {},
   "outputs": [],
   "source": []
  },
  {
   "cell_type": "code",
   "execution_count": null,
   "metadata": {},
   "outputs": [],
   "source": []
  },
  {
   "cell_type": "code",
   "execution_count": null,
   "metadata": {},
   "outputs": [],
   "source": []
  },
  {
   "cell_type": "code",
   "execution_count": null,
   "metadata": {},
   "outputs": [],
   "source": []
  },
  {
   "cell_type": "code",
   "execution_count": 19,
   "metadata": {},
   "outputs": [
    {
     "name": "stdout",
     "output_type": "stream",
     "text": [
      "Prediction\n",
      "    Image name:         weed_data/test/test2.jpg\n",
      "    Predicted class:      Snake weed\n",
      "    Predicted score:      7.462121486663818\n",
      "\n"
     ]
    },
    {
     "data": {
      "image/jpeg": "[encoded data removed]",
      "text/plain": [
       "<IPython.core.display.Image object>"
      ]
     },
     "execution_count": 19,
     "metadata": {},
     "output_type": "execute_result"
    }
   ],
   "source": [
    "output = gtf.Infer(img_name = \"weed_data/test/test2.jpg\");\n",
    "from IPython.display import Image\n",
    "Image(filename='weed_data/test/test2.jpg') "
   ]
  },
  {
   "cell_type": "code",
   "execution_count": null,
   "metadata": {},
   "outputs": [],
   "source": []
  }
 ],
 "metadata": {
  "kernelspec": {
   "display_name": "Python 3",
   "language": "python",
   "name": "python3"
  },
  "language_info": {
   "codemirror_mode": {
    "name": "ipython",
    "version": 3
   },
   "file_extension": ".py",
   "mimetype": "text/x-python",
   "name": "python",
   "nbconvert_exporter": "python",
   "pygments_lexer": "ipython3",
   "version": "3.6.9"
  }
 },
 "nbformat": 4,
 "nbformat_minor": 2
}
